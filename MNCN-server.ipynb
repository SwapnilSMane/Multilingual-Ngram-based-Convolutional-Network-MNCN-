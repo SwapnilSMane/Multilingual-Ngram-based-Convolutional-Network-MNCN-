{
 "cells": [
  {
   "cell_type": "markdown",
   "metadata": {},
   "source": [
    "## Main Function"
   ]
  },
  {
   "cell_type": "code",
   "execution_count": 1,
   "metadata": {},
   "outputs": [],
   "source": [
    "# Import libraries and stored python files\n",
    "from torch.backends import cudnn\n",
    "from model import Net\n",
    "import itertools\n",
    "import torch\n",
    "import numpy as np\n",
    "import random\n",
    "from dataset_loader import *"
   ]
  },
  {
   "cell_type": "code",
   "execution_count": 2,
   "metadata": {},
   "outputs": [],
   "source": [
    "torch.manual_seed(0)\n",
    "np.random.seed(0)\n",
    "if torch.has_cudnn:\n",
    "    torch.cuda.manual_seed(0)\n",
    "cudnn.benchmark = True\n",
    "random.seed(0)"
   ]
  },
  {
   "cell_type": "code",
   "execution_count": 3,
   "metadata": {},
   "outputs": [],
   "source": [
    "def train_and_test(learning_rate, batch_size, train_languages, test_languages, entity_coeff,\n",
    "                                            attrib_coeff, early_stopping_mode,\n",
    "                                            early_stopping_min_delta, early_stopping_patience):\n",
    "    train_loader, validation_loader, _ = multidataset_loader(0.1, languages=train_languages)\n",
    "    _, __, test_loader = multidataset_loader(0.0, languages=test_languages)\n",
    "    net = Net(epochs, train_loader, test_loader, validation_loader, learning_rate, entity_coeff, attrib_coeff,\n",
    "                              early_stopping_mode, early_stopping_min_delta, early_stopping_patience)\n",
    "    net.train(batch_size=batch_size, plot_validate=False)\n",
    "    f1, precision, recall, val_f1 = net.test()\n",
    "    return f1, precision, recall, val_f1"
   ]
  },
  {
   "cell_type": "code",
   "execution_count": 4,
   "metadata": {},
   "outputs": [],
   "source": [
    "# Setting up the hyperparameters\n",
    "\n",
    "epochs =100\n",
    "learning_rate = 0.002\n",
    "batch_size = 128\n",
    "drop_out_prob = 0.4\n",
    "early_stopping_mode = 'min'\n",
    "early_stopping_min_delta = 0.0\n",
    "early_stopping_patience = 10\n",
    "alpha = 0.5 #entity_coefficient\n",
    "betha = 0.8 #attribute_coefficient"
   ]
  },
  {
   "cell_type": "markdown",
   "metadata": {},
   "source": [
    "## English restaurant reviews"
   ]
  },
  {
   "cell_type": "code",
   "execution_count": 5,
   "metadata": {
    "scrolled": true
   },
   "outputs": [
    {
     "name": "stderr",
     "output_type": "stream",
     "text": [
      "  0%|                                                                                                                                                | 0/100 [00:00<?, ?it/s]/home/mane1/.local/lib/python3.7/site-packages/torch/nn/functional.py:1709: UserWarning: nn.functional.sigmoid is deprecated. Use torch.sigmoid instead.\n",
      "  warnings.warn(\"nn.functional.sigmoid is deprecated. Use torch.sigmoid instead.\")\n",
      " 31%|█████████████████████████████████████████▊                                                                                             | 31/100 [00:51<01:53,  1.65s/it]"
     ]
    },
    {
     "name": "stdout",
     "output_type": "stream",
     "text": [
      "Early stopping at 31\n"
     ]
    },
    {
     "name": "stderr",
     "output_type": "stream",
     "text": [
      "\n"
     ]
    },
    {
     "name": "stdout",
     "output_type": "stream",
     "text": [
      "F1:0.7220125786163523\n",
      "Precision: 0.6768867924528302\n",
      "Recall: 0.7735849056603774\n"
     ]
    }
   ],
   "source": [
    "#train_languages = ['english', 'french', 'dutch', 'spanish']\n",
    "#test_languages = ['english', 'french', 'dutch', 'spanish']\n",
    "train_languages = ['english']\n",
    "test_languages = ['english']\n",
    "f1_list = []\n",
    "prec_list = []\n",
    "recall_list = []\n",
    "combinations = list(itertools.permutations(train_languages))\n",
    "for comb in combinations:\n",
    "    f1, precision, recall, _ = train_and_test(learning_rate, batch_size, comb,\n",
    "                                                      test_languages, alpha, betha,\n",
    "                                                      early_stopping_mode,\n",
    "                                                      early_stopping_min_delta,\n",
    "                                                      early_stopping_patience)\n",
    "    f1_list.append(f1)\n",
    "    prec_list.append(precision)\n",
    "    recall_list.append(recall)\n",
    "\n",
    "\n",
    "\n",
    "precision = np.mean(prec_list)\n",
    "recall = np.mean(recall_list)\n",
    "f1 = 2*(precision*recall)/(precision+recall)\n",
    "print(\"F1:\" + str(f1))\n",
    "print(\"Precision: \" + str(precision))\n",
    "print(\"Recall: \" + str(recall))"
   ]
  },
  {
   "cell_type": "markdown",
   "metadata": {},
   "source": [
    "## French restaurant reviews"
   ]
  },
  {
   "cell_type": "code",
   "execution_count": 9,
   "metadata": {},
   "outputs": [
    {
     "name": "stderr",
     "output_type": "stream",
     "text": [
      " 41%|███████████████████████████████████████████████████████▎                                                                               | 41/100 [00:57<01:23,  1.41s/it]"
     ]
    },
    {
     "name": "stdout",
     "output_type": "stream",
     "text": [
      "Early stopping at 41\n"
     ]
    },
    {
     "name": "stderr",
     "output_type": "stream",
     "text": [
      "\n"
     ]
    },
    {
     "name": "stdout",
     "output_type": "stream",
     "text": [
      "F1:0.6526195899772209\n",
      "Precision: 0.6201298701298701\n",
      "Recall: 0.6887019230769231\n"
     ]
    }
   ],
   "source": [
    "train_languages = ['french']\n",
    "test_languages = ['french']\n",
    "f1_list = []\n",
    "prec_list = []\n",
    "recall_list = []\n",
    "combinations = list(itertools.permutations(train_languages))\n",
    "for comb in combinations:\n",
    "    f1, precision, recall, _ = train_and_test(learning_rate, batch_size, comb,\n",
    "                                                      test_languages, alpha, betha,\n",
    "                                                      early_stopping_mode,\n",
    "                                                      early_stopping_min_delta,\n",
    "                                                      early_stopping_patience)\n",
    "    f1_list.append(f1)\n",
    "    prec_list.append(precision)\n",
    "    recall_list.append(recall)\n",
    "\n",
    "\n",
    "\n",
    "precision = np.mean(prec_list)\n",
    "recall = np.mean(recall_list)\n",
    "f1 = 2*(precision*recall)/(precision+recall)\n",
    "print(\"F1:\" + str(f1))\n",
    "print(\"Precision: \" + str(precision))\n",
    "print(\"Recall: \" + str(recall))"
   ]
  },
  {
   "cell_type": "markdown",
   "metadata": {},
   "source": [
    "## Dutch restaurant reviews"
   ]
  },
  {
   "cell_type": "code",
   "execution_count": 10,
   "metadata": {},
   "outputs": [
    {
     "name": "stderr",
     "output_type": "stream",
     "text": [
      " 44%|███████████████████████████████████████████████████████████▍                                                                           | 44/100 [00:52<01:06,  1.18s/it]"
     ]
    },
    {
     "name": "stdout",
     "output_type": "stream",
     "text": [
      "Early stopping at 44\n"
     ]
    },
    {
     "name": "stderr",
     "output_type": "stream",
     "text": [
      "\n"
     ]
    },
    {
     "name": "stdout",
     "output_type": "stream",
     "text": [
      "F1:0.6607773851590106\n",
      "Precision: 0.6763110307414105\n",
      "Recall: 0.6459412780656304\n"
     ]
    }
   ],
   "source": [
    "train_languages = ['dutch']\n",
    "test_languages = ['dutch']\n",
    "f1_list = []\n",
    "prec_list = []\n",
    "recall_list = []\n",
    "combinations = list(itertools.permutations(train_languages))\n",
    "for comb in combinations:\n",
    "    f1, precision, recall, _ = train_and_test(learning_rate, batch_size, comb,\n",
    "                                                      test_languages, alpha, betha,\n",
    "                                                      early_stopping_mode,\n",
    "                                                      early_stopping_min_delta,\n",
    "                                                      early_stopping_patience)\n",
    "    f1_list.append(f1)\n",
    "    prec_list.append(precision)\n",
    "    recall_list.append(recall)\n",
    "\n",
    "\n",
    "\n",
    "precision = np.mean(prec_list)\n",
    "recall = np.mean(recall_list)\n",
    "f1 = 2*(precision*recall)/(precision+recall)\n",
    "print(\"F1:\" + str(f1))\n",
    "print(\"Precision: \" + str(precision))\n",
    "print(\"Recall: \" + str(recall))"
   ]
  },
  {
   "cell_type": "markdown",
   "metadata": {},
   "source": [
    "## Spanish restaurant reviews"
   ]
  },
  {
   "cell_type": "code",
   "execution_count": 8,
   "metadata": {},
   "outputs": [
    {
     "name": "stderr",
     "output_type": "stream",
     "text": [
      " 28%|█████████████████████████████████████▊                                                                                                 | 28/100 [00:40<01:44,  1.44s/it]"
     ]
    },
    {
     "name": "stdout",
     "output_type": "stream",
     "text": [
      "Early stopping at 28\n"
     ]
    },
    {
     "name": "stderr",
     "output_type": "stream",
     "text": [
      "\n"
     ]
    },
    {
     "name": "stdout",
     "output_type": "stream",
     "text": [
      "F1:0.7025089605734767\n",
      "Precision: 0.7035897435897436\n",
      "Recall: 0.7014314928425358\n"
     ]
    }
   ],
   "source": [
    "train_languages = ['spanish']\n",
    "test_languages = ['spanish']\n",
    "f1_list = []\n",
    "prec_list = []\n",
    "recall_list = []\n",
    "combinations = list(itertools.permutations(train_languages))\n",
    "for comb in combinations:\n",
    "    f1, precision, recall, _ = train_and_test(learning_rate, batch_size, comb,\n",
    "                                                      test_languages, alpha, betha,\n",
    "                                                      early_stopping_mode,\n",
    "                                                      early_stopping_min_delta,\n",
    "                                                      early_stopping_patience)\n",
    "    f1_list.append(f1)\n",
    "    prec_list.append(precision)\n",
    "    recall_list.append(recall)\n",
    "\n",
    "\n",
    "\n",
    "precision = np.mean(prec_list)\n",
    "recall = np.mean(recall_list)\n",
    "f1 = 2*(precision*recall)/(precision+recall)\n",
    "print(\"F1:\" + str(f1))\n",
    "print(\"Precision: \" + str(precision))\n",
    "print(\"Recall: \" + str(recall))"
   ]
  },
  {
   "cell_type": "markdown",
   "metadata": {},
   "source": [
    "## train_languages = ['english', 'french', 'dutch', 'spanish']\n",
    "## test_languages = ['spanish']"
   ]
  },
  {
   "cell_type": "code",
   "execution_count": 15,
   "metadata": {},
   "outputs": [
    {
     "name": "stderr",
     "output_type": "stream",
     "text": [
      " 26%|███████████████████████████████████                                                                                                    | 26/100 [02:25<06:53,  5.58s/it]"
     ]
    },
    {
     "name": "stdout",
     "output_type": "stream",
     "text": [
      "Early stopping at 26\n"
     ]
    },
    {
     "name": "stderr",
     "output_type": "stream",
     "text": [
      "\n",
      " 29%|███████████████████████████████████████▏                                                                                               | 29/100 [02:41<06:36,  5.58s/it]"
     ]
    },
    {
     "name": "stdout",
     "output_type": "stream",
     "text": [
      "Early stopping at 29\n"
     ]
    },
    {
     "name": "stderr",
     "output_type": "stream",
     "text": [
      "\n",
      " 28%|█████████████████████████████████████▊                                                                                                 | 28/100 [02:36<06:42,  5.59s/it]"
     ]
    },
    {
     "name": "stdout",
     "output_type": "stream",
     "text": [
      "Early stopping at 28\n"
     ]
    },
    {
     "name": "stderr",
     "output_type": "stream",
     "text": [
      "\n",
      " 29%|███████████████████████████████████████▏                                                                                               | 29/100 [02:42<06:37,  5.59s/it]"
     ]
    },
    {
     "name": "stdout",
     "output_type": "stream",
     "text": [
      "Early stopping at 29\n"
     ]
    },
    {
     "name": "stderr",
     "output_type": "stream",
     "text": [
      "\n",
      " 24%|████████████████████████████████▍                                                                                                      | 24/100 [02:15<07:08,  5.63s/it]"
     ]
    },
    {
     "name": "stdout",
     "output_type": "stream",
     "text": [
      "Early stopping at 24\n"
     ]
    },
    {
     "name": "stderr",
     "output_type": "stream",
     "text": [
      "\n",
      " 28%|█████████████████████████████████████▊                                                                                                 | 28/100 [02:36<06:42,  5.59s/it]"
     ]
    },
    {
     "name": "stdout",
     "output_type": "stream",
     "text": [
      "Early stopping at 28\n"
     ]
    },
    {
     "name": "stderr",
     "output_type": "stream",
     "text": [
      "\n",
      " 27%|████████████████████████████████████▍                                                                                                  | 27/100 [02:30<06:47,  5.58s/it]"
     ]
    },
    {
     "name": "stdout",
     "output_type": "stream",
     "text": [
      "Early stopping at 27\n"
     ]
    },
    {
     "name": "stderr",
     "output_type": "stream",
     "text": [
      "\n",
      " 27%|████████████████████████████████████▍                                                                                                  | 27/100 [02:31<06:48,  5.59s/it]"
     ]
    },
    {
     "name": "stdout",
     "output_type": "stream",
     "text": [
      "Early stopping at 27\n"
     ]
    },
    {
     "name": "stderr",
     "output_type": "stream",
     "text": [
      "\n",
      " 27%|████████████████████████████████████▍                                                                                                  | 27/100 [02:31<06:49,  5.61s/it]"
     ]
    },
    {
     "name": "stdout",
     "output_type": "stream",
     "text": [
      "Early stopping at 27\n"
     ]
    },
    {
     "name": "stderr",
     "output_type": "stream",
     "text": [
      "\n",
      " 31%|█████████████████████████████████████████▊                                                                                             | 31/100 [02:52<06:24,  5.57s/it]"
     ]
    },
    {
     "name": "stdout",
     "output_type": "stream",
     "text": [
      "Early stopping at 31\n"
     ]
    },
    {
     "name": "stderr",
     "output_type": "stream",
     "text": [
      "\n",
      " 29%|███████████████████████████████████████▏                                                                                               | 29/100 [02:42<06:36,  5.59s/it]"
     ]
    },
    {
     "name": "stdout",
     "output_type": "stream",
     "text": [
      "Early stopping at 29\n"
     ]
    },
    {
     "name": "stderr",
     "output_type": "stream",
     "text": [
      "\n",
      " 30%|████████████████████████████████████████▌                                                                                              | 30/100 [02:47<06:30,  5.58s/it]"
     ]
    },
    {
     "name": "stdout",
     "output_type": "stream",
     "text": [
      "Early stopping at 30\n"
     ]
    },
    {
     "name": "stderr",
     "output_type": "stream",
     "text": [
      "\n",
      " 26%|███████████████████████████████████                                                                                                    | 26/100 [02:25<06:55,  5.61s/it]"
     ]
    },
    {
     "name": "stdout",
     "output_type": "stream",
     "text": [
      "Early stopping at 26\n"
     ]
    },
    {
     "name": "stderr",
     "output_type": "stream",
     "text": [
      "\n",
      " 27%|████████████████████████████████████▍                                                                                                  | 27/100 [02:31<06:48,  5.60s/it]"
     ]
    },
    {
     "name": "stdout",
     "output_type": "stream",
     "text": [
      "Early stopping at 27\n"
     ]
    },
    {
     "name": "stderr",
     "output_type": "stream",
     "text": [
      "\n",
      " 24%|████████████████████████████████▍                                                                                                      | 24/100 [02:14<07:06,  5.61s/it]"
     ]
    },
    {
     "name": "stdout",
     "output_type": "stream",
     "text": [
      "Early stopping at 24\n"
     ]
    },
    {
     "name": "stderr",
     "output_type": "stream",
     "text": [
      "\n",
      " 28%|█████████████████████████████████████▊                                                                                                 | 28/100 [02:36<06:43,  5.60s/it]"
     ]
    },
    {
     "name": "stdout",
     "output_type": "stream",
     "text": [
      "Early stopping at 28\n"
     ]
    },
    {
     "name": "stderr",
     "output_type": "stream",
     "text": [
      "\n",
      " 27%|████████████████████████████████████▍                                                                                                  | 27/100 [02:30<06:47,  5.59s/it]"
     ]
    },
    {
     "name": "stdout",
     "output_type": "stream",
     "text": [
      "Early stopping at 27\n"
     ]
    },
    {
     "name": "stderr",
     "output_type": "stream",
     "text": [
      "\n",
      " 28%|█████████████████████████████████████▊                                                                                                 | 28/100 [02:47<07:10,  5.98s/it]"
     ]
    },
    {
     "name": "stdout",
     "output_type": "stream",
     "text": [
      "Early stopping at 28\n"
     ]
    },
    {
     "name": "stderr",
     "output_type": "stream",
     "text": [
      "\n",
      " 27%|████████████████████████████████████▍                                                                                                  | 27/100 [02:49<07:39,  6.29s/it]"
     ]
    },
    {
     "name": "stdout",
     "output_type": "stream",
     "text": [
      "Early stopping at 27\n"
     ]
    },
    {
     "name": "stderr",
     "output_type": "stream",
     "text": [
      "\n",
      " 24%|████████████████████████████████▍                                                                                                      | 24/100 [02:31<07:59,  6.31s/it]"
     ]
    },
    {
     "name": "stdout",
     "output_type": "stream",
     "text": [
      "Early stopping at 24\n"
     ]
    },
    {
     "name": "stderr",
     "output_type": "stream",
     "text": [
      "\n",
      " 25%|█████████████████████████████████▊                                                                                                     | 25/100 [02:37<07:52,  6.30s/it]"
     ]
    },
    {
     "name": "stdout",
     "output_type": "stream",
     "text": [
      "Early stopping at 25\n"
     ]
    },
    {
     "name": "stderr",
     "output_type": "stream",
     "text": [
      "\n",
      " 27%|████████████████████████████████████▍                                                                                                  | 27/100 [02:49<07:38,  6.28s/it]"
     ]
    },
    {
     "name": "stdout",
     "output_type": "stream",
     "text": [
      "Early stopping at 27\n"
     ]
    },
    {
     "name": "stderr",
     "output_type": "stream",
     "text": [
      "\n",
      " 27%|████████████████████████████████████▍                                                                                                  | 27/100 [02:49<07:38,  6.28s/it]"
     ]
    },
    {
     "name": "stdout",
     "output_type": "stream",
     "text": [
      "Early stopping at 27\n"
     ]
    },
    {
     "name": "stderr",
     "output_type": "stream",
     "text": [
      "\n",
      " 28%|█████████████████████████████████████▊                                                                                                 | 28/100 [02:55<07:31,  6.28s/it]"
     ]
    },
    {
     "name": "stdout",
     "output_type": "stream",
     "text": [
      "Early stopping at 28\n"
     ]
    },
    {
     "name": "stderr",
     "output_type": "stream",
     "text": [
      "\n"
     ]
    },
    {
     "name": "stdout",
     "output_type": "stream",
     "text": [
      "F1:0.6955278692763008\n",
      "Precision: 0.6380702544924449\n",
      "Recall: 0.7643575323790047\n"
     ]
    }
   ],
   "source": [
    "train_languages = ['english', 'french', 'dutch', 'spanish']\n",
    "test_languages = ['spanish']\n",
    "f1_list = []\n",
    "prec_list = []\n",
    "recall_list = []\n",
    "combinations = list(itertools.permutations(train_languages))\n",
    "for comb in combinations:\n",
    "    f1, precision, recall, _ = train_and_test(learning_rate, batch_size, comb,\n",
    "                                                      test_languages, alpha, betha,\n",
    "                                                      early_stopping_mode,\n",
    "                                                      early_stopping_min_delta,\n",
    "                                                      early_stopping_patience)\n",
    "    f1_list.append(f1)\n",
    "    prec_list.append(precision)\n",
    "    recall_list.append(recall)\n",
    "\n",
    "\n",
    "\n",
    "precision = np.mean(prec_list)\n",
    "recall = np.mean(recall_list)\n",
    "f1 = 2*(precisexition*recall)/(precision+recall)\n",
    "print(\"F1:\" + str(f1))\n",
    "print(\"Precision: \" + str(precision))\n",
    "print(\"Recall: \" + str(recall))"
   ]
  },
  {
   "cell_type": "code",
   "execution_count": 16,
   "metadata": {},
   "outputs": [
    {
     "name": "stderr",
     "output_type": "stream",
     "text": [
      " 29%|███████████████████████████████████████▏                                                                                               | 29/100 [03:01<07:23,  6.25s/it]"
     ]
    },
    {
     "name": "stdout",
     "output_type": "stream",
     "text": [
      "Early stopping at 29\n"
     ]
    },
    {
     "name": "stderr",
     "output_type": "stream",
     "text": [
      "\n",
      " 27%|████████████████████████████████████▍                                                                                                  | 27/100 [02:49<07:39,  6.30s/it]"
     ]
    },
    {
     "name": "stdout",
     "output_type": "stream",
     "text": [
      "Early stopping at 27\n"
     ]
    },
    {
     "name": "stderr",
     "output_type": "stream",
     "text": [
      "\n",
      " 24%|████████████████████████████████▍                                                                                                      | 24/100 [02:31<08:00,  6.32s/it]"
     ]
    },
    {
     "name": "stdout",
     "output_type": "stream",
     "text": [
      "Early stopping at 24\n"
     ]
    },
    {
     "name": "stderr",
     "output_type": "stream",
     "text": [
      "\n",
      " 32%|███████████████████████████████████████████▏                                                                                           | 32/100 [03:20<07:05,  6.26s/it]"
     ]
    },
    {
     "name": "stdout",
     "output_type": "stream",
     "text": [
      "Early stopping at 32\n"
     ]
    },
    {
     "name": "stderr",
     "output_type": "stream",
     "text": [
      "\n",
      " 27%|████████████████████████████████████▍                                                                                                  | 27/100 [02:50<07:39,  6.30s/it]"
     ]
    },
    {
     "name": "stdout",
     "output_type": "stream",
     "text": [
      "Early stopping at 27\n"
     ]
    },
    {
     "name": "stderr",
     "output_type": "stream",
     "text": [
      "\n",
      " 26%|███████████████████████████████████                                                                                                    | 26/100 [02:43<07:46,  6.31s/it]"
     ]
    },
    {
     "name": "stdout",
     "output_type": "stream",
     "text": [
      "Early stopping at 26\n"
     ]
    },
    {
     "name": "stderr",
     "output_type": "stream",
     "text": [
      "\n",
      " 28%|█████████████████████████████████████▊                                                                                                 | 28/100 [02:56<07:33,  6.30s/it]"
     ]
    },
    {
     "name": "stdout",
     "output_type": "stream",
     "text": [
      "Early stopping at 28\n"
     ]
    },
    {
     "name": "stderr",
     "output_type": "stream",
     "text": [
      "\n",
      " 27%|████████████████████████████████████▍                                                                                                  | 27/100 [02:50<07:41,  6.32s/it]"
     ]
    },
    {
     "name": "stdout",
     "output_type": "stream",
     "text": [
      "Early stopping at 27\n"
     ]
    },
    {
     "name": "stderr",
     "output_type": "stream",
     "text": [
      "\n",
      " 29%|███████████████████████████████████████▏                                                                                               | 29/100 [03:02<07:26,  6.29s/it]"
     ]
    },
    {
     "name": "stdout",
     "output_type": "stream",
     "text": [
      "Early stopping at 29\n"
     ]
    },
    {
     "name": "stderr",
     "output_type": "stream",
     "text": [
      "\n",
      " 23%|███████████████████████████████                                                                                                        | 23/100 [02:26<08:08,  6.35s/it]"
     ]
    },
    {
     "name": "stdout",
     "output_type": "stream",
     "text": [
      "Early stopping at 23\n"
     ]
    },
    {
     "name": "stderr",
     "output_type": "stream",
     "text": [
      "\n",
      " 27%|████████████████████████████████████▍                                                                                                  | 27/100 [02:50<07:40,  6.31s/it]"
     ]
    },
    {
     "name": "stdout",
     "output_type": "stream",
     "text": [
      "Early stopping at 27\n"
     ]
    },
    {
     "name": "stderr",
     "output_type": "stream",
     "text": [
      "\n",
      " 28%|█████████████████████████████████████▊                                                                                                 | 28/100 [02:56<07:34,  6.31s/it]"
     ]
    },
    {
     "name": "stdout",
     "output_type": "stream",
     "text": [
      "Early stopping at 28\n"
     ]
    },
    {
     "name": "stderr",
     "output_type": "stream",
     "text": [
      "\n",
      " 29%|███████████████████████████████████████▏                                                                                               | 29/100 [03:02<07:27,  6.31s/it]"
     ]
    },
    {
     "name": "stdout",
     "output_type": "stream",
     "text": [
      "Early stopping at 29\n"
     ]
    },
    {
     "name": "stderr",
     "output_type": "stream",
     "text": [
      "\n",
      " 26%|███████████████████████████████████                                                                                                    | 26/100 [02:43<07:46,  6.30s/it]"
     ]
    },
    {
     "name": "stdout",
     "output_type": "stream",
     "text": [
      "Early stopping at 26\n"
     ]
    },
    {
     "name": "stderr",
     "output_type": "stream",
     "text": [
      "\n",
      " 29%|███████████████████████████████████████▏                                                                                               | 29/100 [03:02<07:25,  6.28s/it]"
     ]
    },
    {
     "name": "stdout",
     "output_type": "stream",
     "text": [
      "Early stopping at 29\n"
     ]
    },
    {
     "name": "stderr",
     "output_type": "stream",
     "text": [
      "\n",
      " 23%|███████████████████████████████                                                                                                        | 23/100 [02:25<08:07,  6.33s/it]"
     ]
    },
    {
     "name": "stdout",
     "output_type": "stream",
     "text": [
      "Early stopping at 23\n"
     ]
    },
    {
     "name": "stderr",
     "output_type": "stream",
     "text": [
      "\n",
      " 27%|████████████████████████████████████▍                                                                                                  | 27/100 [02:50<07:40,  6.31s/it]"
     ]
    },
    {
     "name": "stdout",
     "output_type": "stream",
     "text": [
      "Early stopping at 27\n"
     ]
    },
    {
     "name": "stderr",
     "output_type": "stream",
     "text": [
      "\n",
      " 27%|████████████████████████████████████▍                                                                                                  | 27/100 [02:49<07:39,  6.29s/it]"
     ]
    },
    {
     "name": "stdout",
     "output_type": "stream",
     "text": [
      "Early stopping at 27\n"
     ]
    },
    {
     "name": "stderr",
     "output_type": "stream",
     "text": [
      "\n",
      " 24%|████████████████████████████████▍                                                                                                      | 24/100 [02:31<08:00,  6.33s/it]"
     ]
    },
    {
     "name": "stdout",
     "output_type": "stream",
     "text": [
      "Early stopping at 24\n"
     ]
    },
    {
     "name": "stderr",
     "output_type": "stream",
     "text": [
      "\n",
      " 27%|████████████████████████████████████▍                                                                                                  | 27/100 [02:50<07:41,  6.32s/it]"
     ]
    },
    {
     "name": "stdout",
     "output_type": "stream",
     "text": [
      "Early stopping at 27\n"
     ]
    },
    {
     "name": "stderr",
     "output_type": "stream",
     "text": [
      "\n",
      " 26%|███████████████████████████████████                                                                                                    | 26/100 [02:43<07:46,  6.30s/it]"
     ]
    },
    {
     "name": "stdout",
     "output_type": "stream",
     "text": [
      "Early stopping at 26\n"
     ]
    },
    {
     "name": "stderr",
     "output_type": "stream",
     "text": [
      "\n",
      " 28%|█████████████████████████████████████▊                                                                                                 | 28/100 [02:56<07:32,  6.29s/it]"
     ]
    },
    {
     "name": "stdout",
     "output_type": "stream",
     "text": [
      "Early stopping at 28\n"
     ]
    },
    {
     "name": "stderr",
     "output_type": "stream",
     "text": [
      "\n",
      " 27%|████████████████████████████████████▍                                                                                                  | 27/100 [02:50<07:40,  6.31s/it]"
     ]
    },
    {
     "name": "stdout",
     "output_type": "stream",
     "text": [
      "Early stopping at 27\n"
     ]
    },
    {
     "name": "stderr",
     "output_type": "stream",
     "text": [
      "\n",
      " 28%|█████████████████████████████████████▊                                                                                                 | 28/100 [02:56<07:33,  6.29s/it]"
     ]
    },
    {
     "name": "stdout",
     "output_type": "stream",
     "text": [
      "Early stopping at 28\n"
     ]
    },
    {
     "name": "stderr",
     "output_type": "stream",
     "text": [
      "\n"
     ]
    },
    {
     "name": "stdout",
     "output_type": "stream",
     "text": [
      "F1:0.6644352656674126\n",
      "Precision: 0.6228249945288891\n",
      "Recall: 0.7120034542314334\n"
     ]
    }
   ],
   "source": [
    "#train_languages = ['english', 'french', 'dutch', 'spanish']\n",
    "\n",
    "train_languages = ['english', 'french', 'spanish', 'dutch']\n",
    "test_languages = ['dutch']\n",
    "f1_list = []\n",
    "prec_list = []\n",
    "recall_list = []\n",
    "combinations = list(itertools.permutations(train_languages))\n",
    "for comb in combinations:\n",
    "    f1, precision, recall, _ = train_and_test(learning_rate, batch_size, comb,\n",
    "                                                      test_languages, alpha, betha,\n",
    "                                                      early_stopping_mode,\n",
    "                                                      early_stopping_min_delta,\n",
    "                                                      early_stopping_patience)\n",
    "    f1_list.append(f1)\n",
    "    prec_list.append(precision)\n",
    "    recall_list.append(recall)\n",
    "\n",
    "\n",
    "\n",
    "precision = np.mean(prec_list)\n",
    "recall = np.mean(recall_list)\n",
    "f1 = 2*(precision*recall)/(precision+recall)\n",
    "print(\"F1:\" + str(f1))\n",
    "print(\"Precision: \" + str(precision))\n",
    "print(\"Recall: \" + str(recall))"
   ]
  },
  {
   "cell_type": "code",
   "execution_count": null,
   "metadata": {},
   "outputs": [],
   "source": []
  },
  {
   "cell_type": "code",
   "execution_count": 17,
   "metadata": {},
   "outputs": [
    {
     "name": "stderr",
     "output_type": "stream",
     "text": [
      " 31%|█████████████████████████████████████████▊                                                                                             | 31/100 [03:14<07:13,  6.28s/it]"
     ]
    },
    {
     "name": "stdout",
     "output_type": "stream",
     "text": [
      "Early stopping at 31\n"
     ]
    },
    {
     "name": "stderr",
     "output_type": "stream",
     "text": [
      "\n",
      " 25%|█████████████████████████████████▊                                                                                                     | 25/100 [02:37<07:52,  6.30s/it]"
     ]
    },
    {
     "name": "stdout",
     "output_type": "stream",
     "text": [
      "Early stopping at 25\n"
     ]
    },
    {
     "name": "stderr",
     "output_type": "stream",
     "text": [
      "\n",
      " 27%|████████████████████████████████████▍                                                                                                  | 27/100 [02:49<07:39,  6.29s/it]"
     ]
    },
    {
     "name": "stdout",
     "output_type": "stream",
     "text": [
      "Early stopping at 27\n"
     ]
    },
    {
     "name": "stderr",
     "output_type": "stream",
     "text": [
      "\n",
      " 24%|████████████████████████████████▍                                                                                                      | 24/100 [02:31<07:59,  6.31s/it]"
     ]
    },
    {
     "name": "stdout",
     "output_type": "stream",
     "text": [
      "Early stopping at 24\n"
     ]
    },
    {
     "name": "stderr",
     "output_type": "stream",
     "text": [
      "\n",
      " 26%|███████████████████████████████████                                                                                                    | 26/100 [02:36<07:24,  6.01s/it]"
     ]
    },
    {
     "name": "stdout",
     "output_type": "stream",
     "text": [
      "Early stopping at 26\n"
     ]
    },
    {
     "name": "stderr",
     "output_type": "stream",
     "text": [
      "\n",
      " 28%|█████████████████████████████████████▊                                                                                                 | 28/100 [02:36<06:42,  5.59s/it]"
     ]
    },
    {
     "name": "stdout",
     "output_type": "stream",
     "text": [
      "Early stopping at 28\n"
     ]
    },
    {
     "name": "stderr",
     "output_type": "stream",
     "text": [
      "\n",
      " 27%|████████████████████████████████████▍                                                                                                  | 27/100 [02:31<06:48,  5.59s/it]"
     ]
    },
    {
     "name": "stdout",
     "output_type": "stream",
     "text": [
      "Early stopping at 27\n"
     ]
    },
    {
     "name": "stderr",
     "output_type": "stream",
     "text": [
      "\n",
      " 24%|████████████████████████████████▍                                                                                                      | 24/100 [02:14<07:06,  5.62s/it]"
     ]
    },
    {
     "name": "stdout",
     "output_type": "stream",
     "text": [
      "Early stopping at 24\n"
     ]
    },
    {
     "name": "stderr",
     "output_type": "stream",
     "text": [
      "\n",
      " 31%|█████████████████████████████████████████▊                                                                                             | 31/100 [02:52<06:23,  5.56s/it]"
     ]
    },
    {
     "name": "stdout",
     "output_type": "stream",
     "text": [
      "Early stopping at 31\n"
     ]
    },
    {
     "name": "stderr",
     "output_type": "stream",
     "text": [
      "\n",
      " 28%|█████████████████████████████████████▊                                                                                                 | 28/100 [02:36<06:42,  5.58s/it]"
     ]
    },
    {
     "name": "stdout",
     "output_type": "stream",
     "text": [
      "Early stopping at 28\n"
     ]
    },
    {
     "name": "stderr",
     "output_type": "stream",
     "text": [
      "\n",
      " 24%|████████████████████████████████▍                                                                                                      | 24/100 [02:14<07:07,  5.62s/it]"
     ]
    },
    {
     "name": "stdout",
     "output_type": "stream",
     "text": [
      "Early stopping at 24\n"
     ]
    },
    {
     "name": "stderr",
     "output_type": "stream",
     "text": [
      "\n",
      " 32%|███████████████████████████████████████████▏                                                                                           | 32/100 [02:57<06:17,  5.56s/it]"
     ]
    },
    {
     "name": "stdout",
     "output_type": "stream",
     "text": [
      "Early stopping at 32\n"
     ]
    },
    {
     "name": "stderr",
     "output_type": "stream",
     "text": [
      "\n",
      " 24%|████████████████████████████████▍                                                                                                      | 24/100 [02:14<07:06,  5.61s/it]"
     ]
    },
    {
     "name": "stdout",
     "output_type": "stream",
     "text": [
      "Early stopping at 24\n"
     ]
    },
    {
     "name": "stderr",
     "output_type": "stream",
     "text": [
      "\n",
      " 29%|███████████████████████████████████████▏                                                                                               | 29/100 [02:41<06:34,  5.56s/it]"
     ]
    },
    {
     "name": "stdout",
     "output_type": "stream",
     "text": [
      "Early stopping at 29\n"
     ]
    },
    {
     "name": "stderr",
     "output_type": "stream",
     "text": [
      "\n",
      " 27%|████████████████████████████████████▍                                                                                                  | 27/100 [02:30<06:48,  5.59s/it]"
     ]
    },
    {
     "name": "stdout",
     "output_type": "stream",
     "text": [
      "Early stopping at 27\n"
     ]
    },
    {
     "name": "stderr",
     "output_type": "stream",
     "text": [
      "\n",
      " 24%|████████████████████████████████▍                                                                                                      | 24/100 [02:14<07:05,  5.60s/it]"
     ]
    },
    {
     "name": "stdout",
     "output_type": "stream",
     "text": [
      "Early stopping at 24\n"
     ]
    },
    {
     "name": "stderr",
     "output_type": "stream",
     "text": [
      "\n",
      " 27%|████████████████████████████████████▍                                                                                                  | 27/100 [02:30<06:47,  5.58s/it]"
     ]
    },
    {
     "name": "stdout",
     "output_type": "stream",
     "text": [
      "Early stopping at 27\n"
     ]
    },
    {
     "name": "stderr",
     "output_type": "stream",
     "text": [
      "\n",
      " 32%|███████████████████████████████████████████▏                                                                                           | 32/100 [02:57<06:17,  5.55s/it]"
     ]
    },
    {
     "name": "stdout",
     "output_type": "stream",
     "text": [
      "Early stopping at 32\n"
     ]
    },
    {
     "name": "stderr",
     "output_type": "stream",
     "text": [
      "\n",
      " 27%|████████████████████████████████████▍                                                                                                  | 27/100 [02:30<06:47,  5.59s/it]"
     ]
    },
    {
     "name": "stdout",
     "output_type": "stream",
     "text": [
      "Early stopping at 27\n"
     ]
    },
    {
     "name": "stderr",
     "output_type": "stream",
     "text": [
      "\n",
      " 29%|███████████████████████████████████████▏                                                                                               | 29/100 [02:41<06:35,  5.57s/it]"
     ]
    },
    {
     "name": "stdout",
     "output_type": "stream",
     "text": [
      "Early stopping at 29\n"
     ]
    },
    {
     "name": "stderr",
     "output_type": "stream",
     "text": [
      "\n",
      " 27%|████████████████████████████████████▍                                                                                                  | 27/100 [02:31<06:48,  5.60s/it]"
     ]
    },
    {
     "name": "stdout",
     "output_type": "stream",
     "text": [
      "Early stopping at 27\n"
     ]
    },
    {
     "name": "stderr",
     "output_type": "stream",
     "text": [
      "\n",
      " 25%|█████████████████████████████████▊                                                                                                     | 25/100 [02:20<07:00,  5.60s/it]"
     ]
    },
    {
     "name": "stdout",
     "output_type": "stream",
     "text": [
      "Early stopping at 25\n"
     ]
    },
    {
     "name": "stderr",
     "output_type": "stream",
     "text": [
      "\n",
      " 29%|███████████████████████████████████████▏                                                                                               | 29/100 [02:41<06:35,  5.58s/it]"
     ]
    },
    {
     "name": "stdout",
     "output_type": "stream",
     "text": [
      "Early stopping at 29\n"
     ]
    },
    {
     "name": "stderr",
     "output_type": "stream",
     "text": [
      "\n",
      " 31%|█████████████████████████████████████████▊                                                                                             | 31/100 [02:52<06:24,  5.57s/it]"
     ]
    },
    {
     "name": "stdout",
     "output_type": "stream",
     "text": [
      "Early stopping at 31\n"
     ]
    },
    {
     "name": "stderr",
     "output_type": "stream",
     "text": [
      "\n"
     ]
    },
    {
     "name": "stdout",
     "output_type": "stream",
     "text": [
      "F1:0.6592494362010369\n",
      "Precision: 0.640895238041244\n",
      "Recall: 0.6786858974358975\n"
     ]
    }
   ],
   "source": [
    "#train_languages = ['english', 'french', 'dutch', 'spanish']\n",
    "\n",
    "train_languages = ['english', 'dutch', 'spanish', 'french']\n",
    "test_languages = ['french']\n",
    "f1_list = []\n",
    "prec_list = []\n",
    "recall_list = []\n",
    "combinations = list(itertools.permutations(train_languages))\n",
    "for comb in combinations:\n",
    "    f1, precision, recall, _ = train_and_test(learning_rate, batch_size, comb,\n",
    "                                                      test_languages, alpha, betha,\n",
    "                                                      early_stopping_mode,\n",
    "                                                      early_stopping_min_delta,\n",
    "                                                      early_stopping_patience)\n",
    "    f1_list.append(f1)\n",
    "    prec_list.append(precision)\n",
    "    recall_list.append(recall)\n",
    "\n",
    "\n",
    "\n",
    "precision = np.mean(prec_list)\n",
    "recall = np.mean(recall_list)\n",
    "f1 = 2*(precision*recall)/(precision+recall)\n",
    "print(\"F1:\" + str(f1))\n",
    "print(\"Precision: \" + str(precision))\n",
    "print(\"Recall: \" + str(recall))"
   ]
  },
  {
   "cell_type": "code",
   "execution_count": 18,
   "metadata": {},
   "outputs": [
    {
     "name": "stderr",
     "output_type": "stream",
     "text": [
      " 28%|█████████████████████████████████████▊                                                                                                 | 28/100 [02:36<06:41,  5.58s/it]"
     ]
    },
    {
     "name": "stdout",
     "output_type": "stream",
     "text": [
      "Early stopping at 28\n"
     ]
    },
    {
     "name": "stderr",
     "output_type": "stream",
     "text": [
      "\n",
      " 28%|█████████████████████████████████████▊                                                                                                 | 28/100 [02:36<06:43,  5.60s/it]"
     ]
    },
    {
     "name": "stdout",
     "output_type": "stream",
     "text": [
      "Early stopping at 28\n"
     ]
    },
    {
     "name": "stderr",
     "output_type": "stream",
     "text": [
      "\n",
      " 36%|████████████████████████████████████████████████▌                                                                                      | 36/100 [03:19<05:54,  5.54s/it]"
     ]
    },
    {
     "name": "stdout",
     "output_type": "stream",
     "text": [
      "Early stopping at 36\n"
     ]
    },
    {
     "name": "stderr",
     "output_type": "stream",
     "text": [
      "\n",
      " 24%|████████████████████████████████▍                                                                                                      | 24/100 [02:14<07:07,  5.62s/it]"
     ]
    },
    {
     "name": "stdout",
     "output_type": "stream",
     "text": [
      "Early stopping at 24\n"
     ]
    },
    {
     "name": "stderr",
     "output_type": "stream",
     "text": [
      "\n",
      " 26%|███████████████████████████████████                                                                                                    | 26/100 [02:25<06:54,  5.61s/it]"
     ]
    },
    {
     "name": "stdout",
     "output_type": "stream",
     "text": [
      "Early stopping at 26\n"
     ]
    },
    {
     "name": "stderr",
     "output_type": "stream",
     "text": [
      "\n",
      " 25%|█████████████████████████████████▊                                                                                                     | 25/100 [02:20<07:01,  5.62s/it]"
     ]
    },
    {
     "name": "stdout",
     "output_type": "stream",
     "text": [
      "Early stopping at 25\n"
     ]
    },
    {
     "name": "stderr",
     "output_type": "stream",
     "text": [
      "\n",
      " 24%|████████████████████████████████▍                                                                                                      | 24/100 [02:15<07:08,  5.63s/it]"
     ]
    },
    {
     "name": "stdout",
     "output_type": "stream",
     "text": [
      "Early stopping at 24\n"
     ]
    },
    {
     "name": "stderr",
     "output_type": "stream",
     "text": [
      "\n",
      " 29%|███████████████████████████████████████▏                                                                                               | 29/100 [02:42<06:36,  5.59s/it]"
     ]
    },
    {
     "name": "stdout",
     "output_type": "stream",
     "text": [
      "Early stopping at 29\n"
     ]
    },
    {
     "name": "stderr",
     "output_type": "stream",
     "text": [
      "\n",
      " 27%|████████████████████████████████████▍                                                                                                  | 27/100 [02:31<06:50,  5.62s/it]"
     ]
    },
    {
     "name": "stdout",
     "output_type": "stream",
     "text": [
      "Early stopping at 27\n"
     ]
    },
    {
     "name": "stderr",
     "output_type": "stream",
     "text": [
      "\n",
      " 27%|████████████████████████████████████▍                                                                                                  | 27/100 [02:31<06:49,  5.61s/it]"
     ]
    },
    {
     "name": "stdout",
     "output_type": "stream",
     "text": [
      "Early stopping at 27\n"
     ]
    },
    {
     "name": "stderr",
     "output_type": "stream",
     "text": [
      "\n",
      " 24%|████████████████████████████████▍                                                                                                      | 24/100 [02:15<07:08,  5.64s/it]"
     ]
    },
    {
     "name": "stdout",
     "output_type": "stream",
     "text": [
      "Early stopping at 24\n"
     ]
    },
    {
     "name": "stderr",
     "output_type": "stream",
     "text": [
      "\n",
      " 26%|███████████████████████████████████                                                                                                    | 26/100 [02:26<06:56,  5.62s/it]"
     ]
    },
    {
     "name": "stdout",
     "output_type": "stream",
     "text": [
      "Early stopping at 26\n"
     ]
    },
    {
     "name": "stderr",
     "output_type": "stream",
     "text": [
      "\n",
      " 28%|█████████████████████████████████████▊                                                                                                 | 28/100 [02:36<06:43,  5.60s/it]"
     ]
    },
    {
     "name": "stdout",
     "output_type": "stream",
     "text": [
      "Early stopping at 28\n"
     ]
    },
    {
     "name": "stderr",
     "output_type": "stream",
     "text": [
      "\n",
      " 28%|█████████████████████████████████████▊                                                                                                 | 28/100 [02:36<06:43,  5.61s/it]"
     ]
    },
    {
     "name": "stdout",
     "output_type": "stream",
     "text": [
      "Early stopping at 28\n"
     ]
    },
    {
     "name": "stderr",
     "output_type": "stream",
     "text": [
      "\n",
      " 27%|████████████████████████████████████▍                                                                                                  | 27/100 [02:31<06:49,  5.61s/it]"
     ]
    },
    {
     "name": "stdout",
     "output_type": "stream",
     "text": [
      "Early stopping at 27\n"
     ]
    },
    {
     "name": "stderr",
     "output_type": "stream",
     "text": [
      "\n",
      " 27%|████████████████████████████████████▍                                                                                                  | 27/100 [02:31<06:49,  5.61s/it]"
     ]
    },
    {
     "name": "stdout",
     "output_type": "stream",
     "text": [
      "Early stopping at 27\n"
     ]
    },
    {
     "name": "stderr",
     "output_type": "stream",
     "text": [
      "\n",
      " 25%|█████████████████████████████████▊                                                                                                     | 25/100 [02:20<07:01,  5.63s/it]"
     ]
    },
    {
     "name": "stdout",
     "output_type": "stream",
     "text": [
      "Early stopping at 25\n"
     ]
    },
    {
     "name": "stderr",
     "output_type": "stream",
     "text": [
      "\n",
      " 28%|█████████████████████████████████████▊                                                                                                 | 28/100 [02:36<06:43,  5.61s/it]"
     ]
    },
    {
     "name": "stdout",
     "output_type": "stream",
     "text": [
      "Early stopping at 28\n"
     ]
    },
    {
     "name": "stderr",
     "output_type": "stream",
     "text": [
      "\n",
      " 33%|████████████████████████████████████████████▌                                                                                          | 33/100 [03:03<06:12,  5.56s/it]"
     ]
    },
    {
     "name": "stdout",
     "output_type": "stream",
     "text": [
      "Early stopping at 33\n"
     ]
    },
    {
     "name": "stderr",
     "output_type": "stream",
     "text": [
      "\n",
      " 27%|████████████████████████████████████▍                                                                                                  | 27/100 [02:31<06:49,  5.60s/it]"
     ]
    },
    {
     "name": "stdout",
     "output_type": "stream",
     "text": [
      "Early stopping at 27\n"
     ]
    },
    {
     "name": "stderr",
     "output_type": "stream",
     "text": [
      "\n",
      " 28%|█████████████████████████████████████▊                                                                                                 | 28/100 [02:37<06:44,  5.61s/it]"
     ]
    },
    {
     "name": "stdout",
     "output_type": "stream",
     "text": [
      "Early stopping at 28\n"
     ]
    },
    {
     "name": "stderr",
     "output_type": "stream",
     "text": [
      "\n",
      " 24%|████████████████████████████████▍                                                                                                      | 24/100 [02:15<07:08,  5.64s/it]"
     ]
    },
    {
     "name": "stdout",
     "output_type": "stream",
     "text": [
      "Early stopping at 24\n"
     ]
    },
    {
     "name": "stderr",
     "output_type": "stream",
     "text": [
      "\n",
      " 30%|████████████████████████████████████████▌                                                                                              | 30/100 [02:47<06:30,  5.59s/it]"
     ]
    },
    {
     "name": "stdout",
     "output_type": "stream",
     "text": [
      "Early stopping at 30\n"
     ]
    },
    {
     "name": "stderr",
     "output_type": "stream",
     "text": [
      "\n",
      " 29%|███████████████████████████████████████▏                                                                                               | 29/100 [02:42<06:36,  5.59s/it]"
     ]
    },
    {
     "name": "stdout",
     "output_type": "stream",
     "text": [
      "Early stopping at 29\n"
     ]
    },
    {
     "name": "stderr",
     "output_type": "stream",
     "text": [
      "\n"
     ]
    },
    {
     "name": "stdout",
     "output_type": "stream",
     "text": [
      "F1:0.7332558784011991\n",
      "Precision: 0.7107904246763853\n",
      "Recall: 0.7571877807726866\n"
     ]
    }
   ],
   "source": [
    "#train_languages = ['english', 'french', 'dutch', 'spanish']\n",
    "\n",
    "train_languages = ['dutch', 'spanish', 'french', 'english']\n",
    "test_languages = ['english']\n",
    "f1_list = []\n",
    "prec_list = []\n",
    "recall_list = []\n",
    "combinations = list(itertools.permutations(train_languages))\n",
    "for comb in combinations:\n",
    "    f1, precision, recall, _ = train_and_test(learning_rate, batch_size, comb,\n",
    "                                                      test_languages, alpha, betha,\n",
    "                                                      early_stopping_mode,\n",
    "                                                      early_stopping_min_delta,\n",
    "                                                      early_stopping_patience)\n",
    "    f1_list.append(f1)\n",
    "    prec_list.append(precision)\n",
    "    recall_list.append(recall)\n",
    "\n",
    "\n",
    "\n",
    "precision = np.mean(prec_list)\n",
    "recall = np.mean(recall_list)\n",
    "f1 = 2*(precision*recall)/(precision+recall)\n",
    "print(\"F1:\" + str(f1))\n",
    "print(\"Precision: \" + str(precision))\n",
    "print(\"Recall: \" + str(recall))"
   ]
  },
  {
   "cell_type": "markdown",
   "metadata": {},
   "source": [
    "## 3-ways"
   ]
  },
  {
   "cell_type": "code",
   "execution_count": 19,
   "metadata": {},
   "outputs": [
    {
     "name": "stderr",
     "output_type": "stream",
     "text": [
      " 27%|████████████████████████████████████▍                                                                                                  | 27/100 [01:52<05:04,  4.18s/it]"
     ]
    },
    {
     "name": "stdout",
     "output_type": "stream",
     "text": [
      "Early stopping at 27\n"
     ]
    },
    {
     "name": "stderr",
     "output_type": "stream",
     "text": [
      "\n",
      " 33%|████████████████████████████████████████████▌                                                                                          | 33/100 [02:16<04:38,  4.15s/it]"
     ]
    },
    {
     "name": "stdout",
     "output_type": "stream",
     "text": [
      "Early stopping at 33\n"
     ]
    },
    {
     "name": "stderr",
     "output_type": "stream",
     "text": [
      "\n",
      " 32%|███████████████████████████████████████████▏                                                                                           | 32/100 [02:13<04:43,  4.16s/it]"
     ]
    },
    {
     "name": "stdout",
     "output_type": "stream",
     "text": [
      "Early stopping at 32\n"
     ]
    },
    {
     "name": "stderr",
     "output_type": "stream",
     "text": [
      "\n",
      " 27%|████████████████████████████████████▍                                                                                                  | 27/100 [01:52<05:05,  4.18s/it]"
     ]
    },
    {
     "name": "stdout",
     "output_type": "stream",
     "text": [
      "Early stopping at 27\n"
     ]
    },
    {
     "name": "stderr",
     "output_type": "stream",
     "text": [
      "\n",
      " 36%|████████████████████████████████████████████████▌                                                                                      | 36/100 [02:29<04:25,  4.14s/it]"
     ]
    },
    {
     "name": "stdout",
     "output_type": "stream",
     "text": [
      "Early stopping at 36\n"
     ]
    },
    {
     "name": "stderr",
     "output_type": "stream",
     "text": [
      "\n",
      " 32%|███████████████████████████████████████████▏                                                                                           | 32/100 [02:13<04:43,  4.16s/it]"
     ]
    },
    {
     "name": "stdout",
     "output_type": "stream",
     "text": [
      "Early stopping at 32\n"
     ]
    },
    {
     "name": "stderr",
     "output_type": "stream",
     "text": [
      "\n"
     ]
    },
    {
     "name": "stdout",
     "output_type": "stream",
     "text": [
      "F1:0.6242961516381569\n",
      "Precision: 0.6248714803390031\n",
      "Recall: 0.623721881390593\n"
     ]
    }
   ],
   "source": [
    "#train_languages = ['english', 'french', 'dutch', 'spanish']\n",
    "\n",
    "train_languages = ['english', 'french', 'dutch']\n",
    "test_languages = ['spanish']\n",
    "f1_list = []\n",
    "prec_list = []\n",
    "recall_list = []\n",
    "combinations = list(itertools.permutations(train_languages))\n",
    "for comb in combinations:\n",
    "    f1, precision, recall, _ = train_and_test(learning_rate, batch_size, comb,\n",
    "                                                      test_languages, alpha, betha,\n",
    "                                                      early_stopping_mode,\n",
    "                                                      early_stopping_min_delta,\n",
    "                                                      early_stopping_patience)\n",
    "    f1_list.append(f1)\n",
    "    prec_list.append(precision)\n",
    "    recall_list.append(recall)\n",
    "\n",
    "\n",
    "\n",
    "precision = np.mean(prec_list)\n",
    "recall = np.mean(recall_list)\n",
    "f1 = 2*(precision*recall)/(precision+recall)\n",
    "print(\"F1:\" + str(f1))\n",
    "print(\"Precision: \" + str(precision))\n",
    "print(\"Recall: \" + str(recall))"
   ]
  },
  {
   "cell_type": "code",
   "execution_count": 20,
   "metadata": {},
   "outputs": [
    {
     "name": "stderr",
     "output_type": "stream",
     "text": [
      " 36%|████████████████████████████████████████████████▌                                                                                      | 36/100 [02:36<04:39,  4.36s/it]"
     ]
    },
    {
     "name": "stdout",
     "output_type": "stream",
     "text": [
      "Early stopping at 36\n"
     ]
    },
    {
     "name": "stderr",
     "output_type": "stream",
     "text": [
      "\n",
      " 28%|█████████████████████████████████████▊                                                                                                 | 28/100 [02:02<05:16,  4.39s/it]"
     ]
    },
    {
     "name": "stdout",
     "output_type": "stream",
     "text": [
      "Early stopping at 28\n"
     ]
    },
    {
     "name": "stderr",
     "output_type": "stream",
     "text": [
      "\n",
      " 35%|███████████████████████████████████████████████▎                                                                                       | 35/100 [02:32<04:43,  4.36s/it]"
     ]
    },
    {
     "name": "stdout",
     "output_type": "stream",
     "text": [
      "Early stopping at 35\n"
     ]
    },
    {
     "name": "stderr",
     "output_type": "stream",
     "text": [
      "\n",
      " 26%|███████████████████████████████████                                                                                                    | 26/100 [01:54<05:27,  4.42s/it]"
     ]
    },
    {
     "name": "stdout",
     "output_type": "stream",
     "text": [
      "Early stopping at 26\n"
     ]
    },
    {
     "name": "stderr",
     "output_type": "stream",
     "text": [
      "\n",
      " 25%|█████████████████████████████████▊                                                                                                     | 25/100 [01:50<05:31,  4.42s/it]"
     ]
    },
    {
     "name": "stdout",
     "output_type": "stream",
     "text": [
      "Early stopping at 25\n"
     ]
    },
    {
     "name": "stderr",
     "output_type": "stream",
     "text": [
      "\n",
      " 27%|████████████████████████████████████▍                                                                                                  | 27/100 [01:58<05:20,  4.40s/it]"
     ]
    },
    {
     "name": "stdout",
     "output_type": "stream",
     "text": [
      "Early stopping at 27\n"
     ]
    },
    {
     "name": "stderr",
     "output_type": "stream",
     "text": [
      "\n"
     ]
    },
    {
     "name": "stdout",
     "output_type": "stream",
     "text": [
      "F1:0.5287716585867422\n",
      "Precision: 0.6066325524283279\n",
      "Recall: 0.46862406447898675\n"
     ]
    }
   ],
   "source": [
    "#train_languages = ['english', 'french', 'dutch', 'spanish']\n",
    "\n",
    "train_languages = ['english', 'french', 'spanish']\n",
    "test_languages = ['dutch']\n",
    "f1_list = []\n",
    "prec_list = []\n",
    "recall_list = []\n",
    "combinations = list(itertools.permutations(train_languages))\n",
    "for comb in combinations:\n",
    "    f1, precision, recall, _ = train_and_test(learning_rate, batch_size, comb,\n",
    "                                                      test_languages, alpha, betha,\n",
    "                                                      early_stopping_mode,\n",
    "                                                      early_stopping_min_delta,\n",
    "                                                      early_stopping_patience)\n",
    "    f1_list.append(f1)\n",
    "    prec_list.append(precision)\n",
    "    recall_list.append(recall)\n",
    "\n",
    "\n",
    "\n",
    "precision = np.mean(prec_list)\n",
    "recall = np.mean(recall_list)\n",
    "f1 = 2*(precision*recall)/(precision+recall)\n",
    "print(\"F1:\" + str(f1))\n",
    "print(\"Precision: \" + str(precision))\n",
    "print(\"Recall: \" + str(recall))"
   ]
  },
  {
   "cell_type": "code",
   "execution_count": 21,
   "metadata": {},
   "outputs": [
    {
     "name": "stderr",
     "output_type": "stream",
     "text": [
      " 32%|███████████████████████████████████████████▏                                                                                           | 32/100 [02:12<04:41,  4.13s/it]"
     ]
    },
    {
     "name": "stdout",
     "output_type": "stream",
     "text": [
      "Early stopping at 32\n"
     ]
    },
    {
     "name": "stderr",
     "output_type": "stream",
     "text": [
      "\n",
      " 26%|███████████████████████████████████                                                                                                    | 26/100 [01:48<05:08,  4.17s/it]"
     ]
    },
    {
     "name": "stdout",
     "output_type": "stream",
     "text": [
      "Early stopping at 26\n"
     ]
    },
    {
     "name": "stderr",
     "output_type": "stream",
     "text": [
      "\n",
      " 28%|█████████████████████████████████████▊                                                                                                 | 28/100 [01:56<05:00,  4.17s/it]"
     ]
    },
    {
     "name": "stdout",
     "output_type": "stream",
     "text": [
      "Early stopping at 28\n"
     ]
    },
    {
     "name": "stderr",
     "output_type": "stream",
     "text": [
      "\n",
      " 31%|█████████████████████████████████████████▊                                                                                             | 31/100 [02:08<04:46,  4.16s/it]"
     ]
    },
    {
     "name": "stdout",
     "output_type": "stream",
     "text": [
      "Early stopping at 31\n"
     ]
    },
    {
     "name": "stderr",
     "output_type": "stream",
     "text": [
      "\n",
      " 38%|███████████████████████████████████████████████████▎                                                                                   | 38/100 [02:36<04:15,  4.12s/it]"
     ]
    },
    {
     "name": "stdout",
     "output_type": "stream",
     "text": [
      "Early stopping at 38\n"
     ]
    },
    {
     "name": "stderr",
     "output_type": "stream",
     "text": [
      "\n",
      " 30%|████████████████████████████████████████▌                                                                                              | 30/100 [02:04<04:51,  4.16s/it]"
     ]
    },
    {
     "name": "stdout",
     "output_type": "stream",
     "text": [
      "Early stopping at 30\n"
     ]
    },
    {
     "name": "stderr",
     "output_type": "stream",
     "text": [
      "\n"
     ]
    },
    {
     "name": "stdout",
     "output_type": "stream",
     "text": [
      "F1:0.5831836398210053\n",
      "Precision: 0.6605578044930568\n",
      "Recall: 0.5220352564102565\n"
     ]
    }
   ],
   "source": [
    "#train_languages = ['english', 'french', 'dutch', 'spanish']\n",
    "\n",
    "train_languages = ['english', 'dutch', 'spanish']\n",
    "test_languages = ['french']\n",
    "f1_list = []\n",
    "prec_list = []\n",
    "recall_list = []\n",
    "combinations = list(itertools.permutations(train_languages))\n",
    "for comb in combinations:\n",
    "    f1, precision, recall, _ = train_and_test(learning_rate, batch_size, comb,\n",
    "                                                      test_languages, alpha, betha,\n",
    "                                                      early_stopping_mode,\n",
    "                                                      early_stopping_min_delta,\n",
    "                                                      early_stopping_patience)\n",
    "    f1_list.append(f1)\n",
    "    prec_list.append(precision)\n",
    "    recall_list.append(recall)\n",
    "\n",
    "\n",
    "\n",
    "precision = np.mean(prec_list)\n",
    "recall = np.mean(recall_list)\n",
    "f1 = 2*(precision*recall)/(precision+recall)\n",
    "print(\"F1:\" + str(f1))\n",
    "print(\"Precision: \" + str(precision))\n",
    "print(\"Recall: \" + str(recall))"
   ]
  },
  {
   "cell_type": "code",
   "execution_count": 22,
   "metadata": {},
   "outputs": [
    {
     "name": "stderr",
     "output_type": "stream",
     "text": [
      " 26%|███████████████████████████████████                                                                                                    | 26/100 [01:45<05:01,  4.07s/it]"
     ]
    },
    {
     "name": "stdout",
     "output_type": "stream",
     "text": [
      "Early stopping at 26\n"
     ]
    },
    {
     "name": "stderr",
     "output_type": "stream",
     "text": [
      "\n",
      " 45%|████████████████████████████████████████████████████████████▊                                                                          | 45/100 [03:00<03:41,  4.02s/it]"
     ]
    },
    {
     "name": "stdout",
     "output_type": "stream",
     "text": [
      "Early stopping at 45\n"
     ]
    },
    {
     "name": "stderr",
     "output_type": "stream",
     "text": [
      "\n",
      " 26%|███████████████████████████████████                                                                                                    | 26/100 [01:46<05:02,  4.09s/it]"
     ]
    },
    {
     "name": "stdout",
     "output_type": "stream",
     "text": [
      "Early stopping at 26\n"
     ]
    },
    {
     "name": "stderr",
     "output_type": "stream",
     "text": [
      "\n",
      " 31%|█████████████████████████████████████████▊                                                                                             | 31/100 [02:05<04:39,  4.06s/it]"
     ]
    },
    {
     "name": "stdout",
     "output_type": "stream",
     "text": [
      "Early stopping at 31\n"
     ]
    },
    {
     "name": "stderr",
     "output_type": "stream",
     "text": [
      "\n",
      " 30%|████████████████████████████████████████▌                                                                                              | 30/100 [02:01<04:44,  4.06s/it]"
     ]
    },
    {
     "name": "stdout",
     "output_type": "stream",
     "text": [
      "Early stopping at 30\n"
     ]
    },
    {
     "name": "stderr",
     "output_type": "stream",
     "text": [
      "\n",
      " 27%|████████████████████████████████████▍                                                                                                  | 27/100 [01:49<04:56,  4.07s/it]"
     ]
    },
    {
     "name": "stdout",
     "output_type": "stream",
     "text": [
      "Early stopping at 27\n"
     ]
    },
    {
     "name": "stderr",
     "output_type": "stream",
     "text": [
      "\n"
     ]
    },
    {
     "name": "stdout",
     "output_type": "stream",
     "text": [
      "F1:0.6802508637620652\n",
      "Precision: 0.6865367229574332\n",
      "Recall: 0.6740790655884995\n"
     ]
    }
   ],
   "source": [
    "#train_languages = ['english', 'french', 'dutch', 'spanish']\n",
    "\n",
    "train_languages = ['dutch', 'spanish','french']\n",
    "test_languages = ['english']\n",
    "f1_list = []\n",
    "prec_list = []\n",
    "recall_list = []\n",
    "combinations = list(itertools.permutations(train_languages))\n",
    "for comb in combinations:\n",
    "    f1, precision, recall, _ = train_and_test(learning_rate, batch_size, comb,\n",
    "                                                      test_languages, alpha, betha,\n",
    "                                                      early_stopping_mode,\n",
    "                                                      early_stopping_min_delta,\n",
    "                                                      early_stopping_patience)\n",
    "    f1_list.append(f1)\n",
    "    prec_list.append(precision)\n",
    "    recall_list.append(recall)\n",
    "\n",
    "\n",
    "\n",
    "precision = np.mean(prec_list)\n",
    "recall = np.mean(recall_list)\n",
    "f1 = 2*(precision*recall)/(precision+recall)\n",
    "print(\"F1:\" + str(f1))\n",
    "print(\"Precision: \" + str(precision))\n",
    "print(\"Recall: \" + str(recall))"
   ]
  },
  {
   "cell_type": "markdown",
   "metadata": {},
   "source": [
    "# New Datasets"
   ]
  },
  {
   "cell_type": "markdown",
   "metadata": {},
   "source": [
    "## Russian restaurant reviews"
   ]
  },
  {
   "cell_type": "code",
   "execution_count": 12,
   "metadata": {},
   "outputs": [
    {
     "name": "stderr",
     "output_type": "stream",
     "text": [
      " 29%|███████████████████████████████████████▏                                                                                               | 29/100 [01:11<02:55,  2.47s/it]"
     ]
    },
    {
     "name": "stdout",
     "output_type": "stream",
     "text": [
      "Early stopping at 29\n"
     ]
    },
    {
     "name": "stderr",
     "output_type": "stream",
     "text": [
      "\n"
     ]
    },
    {
     "name": "stdout",
     "output_type": "stream",
     "text": [
      "F1:0.6981132075471699\n",
      "Precision: 0.6252755326965467\n",
      "Recall: 0.7901578458681523\n"
     ]
    }
   ],
   "source": [
    "train_languages = ['russian']\n",
    "test_languages = ['russian']\n",
    "f1_list = []\n",
    "prec_list = []\n",
    "recall_list = []\n",
    "combinations = list(itertools.permutations(train_languages))\n",
    "for comb in combinations:\n",
    "    f1, precision, recall, _ = train_and_test(learning_rate, batch_size, comb,\n",
    "                                                      test_languages, alpha, betha,\n",
    "                                                      early_stopping_mode,\n",
    "                                                      early_stopping_min_delta,\n",
    "                                                      early_stopping_patience)\n",
    "    f1_list.append(f1)\n",
    "    prec_list.append(precision)\n",
    "    recall_list.append(recall)\n",
    "\n",
    "\n",
    "\n",
    "precision = np.mean(prec_list)\n",
    "recall = np.mean(recall_list)\n",
    "f1 = 2*(precision*recall)/(precision+recall)\n",
    "print(\"F1:\" + str(f1))\n",
    "print(\"Precision: \" + str(precision))\n",
    "print(\"Recall: \" + str(recall))"
   ]
  },
  {
   "cell_type": "markdown",
   "metadata": {},
   "source": [
    "## Turkish restaurant reviews"
   ]
  },
  {
   "cell_type": "code",
   "execution_count": 11,
   "metadata": {},
   "outputs": [
    {
     "name": "stderr",
     "output_type": "stream",
     "text": [
      " 30%|████████████████████████████████████████▌                                                                                              | 30/100 [00:29<01:09,  1.01it/s]"
     ]
    },
    {
     "name": "stdout",
     "output_type": "stream",
     "text": [
      "Early stopping at 30\n"
     ]
    },
    {
     "name": "stderr",
     "output_type": "stream",
     "text": [
      "\n"
     ]
    },
    {
     "name": "stdout",
     "output_type": "stream",
     "text": [
      "F1:0.6451612903225805\n",
      "Precision: 0.6617647058823529\n",
      "Recall: 0.6293706293706294\n"
     ]
    }
   ],
   "source": [
    "train_languages = ['turkish']\n",
    "test_languages = ['turkish']\n",
    "f1_list = []\n",
    "prec_list = []\n",
    "recall_list = []\n",
    "combinations = list(itertools.permutations(train_languages))\n",
    "for comb in combinations:\n",
    "    f1, precision, recall, _ = train_and_test(learning_rate, batch_size, comb,\n",
    "                                                      test_languages, alpha, betha,\n",
    "                                                      early_stopping_mode,\n",
    "                                                      early_stopping_min_delta,\n",
    "                                                      early_stopping_patience)\n",
    "    f1_list.append(f1)\n",
    "    prec_list.append(precision)\n",
    "    recall_list.append(recall)\n",
    "\n",
    "\n",
    "\n",
    "precision = np.mean(prec_list)\n",
    "recall = np.mean(recall_list)\n",
    "f1 = 2*(precision*recall)/(precision+recall)\n",
    "print(\"F1:\" + str(f1))\n",
    "print(\"Precision: \" + str(precision))\n",
    "print(\"Recall: \" + str(recall))"
   ]
  },
  {
   "cell_type": "code",
   "execution_count": null,
   "metadata": {},
   "outputs": [],
   "source": []
  }
 ],
 "metadata": {
  "kernelspec": {
   "display_name": "Python 3",
   "language": "python",
   "name": "python3"
  },
  "language_info": {
   "codemirror_mode": {
    "name": "ipython",
    "version": 3
   },
   "file_extension": ".py",
   "mimetype": "text/x-python",
   "name": "python",
   "nbconvert_exporter": "python",
   "pygments_lexer": "ipython3",
   "version": "3.8.10"
  }
 },
 "nbformat": 4,
 "nbformat_minor": 5
}
